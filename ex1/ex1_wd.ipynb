{
 "cells": [
  {
   "cell_type": "code",
   "execution_count": 2,
   "metadata": {
    "collapsed": true
   },
   "outputs": [],
   "source": [
    "%matplotlib inline\n",
    "import numpy as np\n",
    "import matplotlib.pyplot as plt\n",
    "import os"
   ]
  },
  {
   "cell_type": "code",
   "execution_count": 21,
   "metadata": {},
   "outputs": [
    {
     "name": "stdout",
     "output_type": "stream",
     "text": [
      "97\n"
     ]
    }
   ],
   "source": [
    "datafile = 'data/ex1data1.txt'\n",
    "data = np.loadtxt(datafile, delimiter = ',', unpack=True)\n",
    "X = np.transpose(data[:-1])\n",
    "Y = np.transpose(data[-1:])\n",
    "m = Y.size\n",
    "#Insert constant column 1\n",
    "X = np.insert(X, 0, values= 1, axis= 1)\n",
    "print(m)"
   ]
  },
  {
   "cell_type": "markdown",
   "metadata": {},
   "source": [
    "1. Plotting the data"
   ]
  },
  {
   "cell_type": "code",
   "execution_count": 17,
   "metadata": {},
   "outputs": [
    {
     "data": {
      "text/plain": [
       "<matplotlib.text.Text at 0x15040f890f0>"
      ]
     },
     "execution_count": 17,
     "metadata": {},
     "output_type": "execute_result"
    },
    {
     "data": {
      "image/png": "[encoded data removed]",
      "text/plain": [
       "<matplotlib.figure.Figure at 0x15041275278>"
      ]
     },
     "metadata": {},
     "output_type": "display_data"
    }
   ],
   "source": [
    "plt.figure(figsize=(10,6))\n",
    "#Plot X and Y\n",
    "plt.plot(X[:,1], Y[:,0], 'rx', markersize = 10)\n",
    "plt.grid(True)\n",
    "plt.ylabel('Profit in 10,000$')\n",
    "plt.xlabel('Population of city in 10,000s')"
   ]
  },
  {
   "cell_type": "markdown",
   "metadata": {},
   "source": [
    "2. compute Cost function"
   ]
  },
  {
   "cell_type": "code",
   "execution_count": 55,
   "metadata": {},
   "outputs": [
    {
     "data": {
      "text/plain": [
       "32.07273387745567"
      ]
     },
     "execution_count": 55,
     "metadata": {},
     "output_type": "execute_result"
    }
   ],
   "source": [
    "#h(theta)\n",
    "def h(theta, X):\n",
    "    return np.dot(X, theta)\n",
    "\n",
    "#Cost function\n",
    "def computeCost(theta, X, Y):\n",
    "    \"\"\"\n",
    "    theta is a n-dimentional vector\n",
    "    X is m*n matrix\n",
    "    Y is m*1 matrix\n",
    "    \"\"\"\n",
    "    J = float(1./2./m * np.dot((h(theta,X) - Y).T, (h(theta,X) - Y)))\n",
    "    return J\n",
    "\n",
    "theta = np.zeros((X.shape[1],1))\n",
    "\n",
    "#cost should be 32.07\n",
    "computeCost(theta,X,Y)"
   ]
  },
  {
   "cell_type": "markdown",
   "metadata": {},
   "source": [
    "3. Gradient descent "
   ]
  },
  {
   "cell_type": "code",
   "execution_count": 63,
   "metadata": {
    "collapsed": true
   },
   "outputs": [],
   "source": [
    "def gradientDescent(theta, X, Y, alpha, iteration):\n",
    "    new_theta = theta\n",
    "    Jvec = []\n",
    "    theta_vec = []\n",
    "    for i in range(iteration):\n",
    "        theta_vec.append(list(new_theta[:,0]))\n",
    "        J = computeCost(theta, X, Y)\n",
    "        Jvec.append(J)\n",
    "        for j in range(len(theta)):\n",
    "            new_theta[j] = theta[j] - float(alpha/m*np.sum((h(theta, X) - Y)*X[:,j].reshape(X.shape[0],1)))\n",
    "        theta = new_theta\n",
    "    return theta, Jvec, theta_vec"
   ]
  },
  {
   "cell_type": "code",
   "execution_count": 68,
   "metadata": {},
   "outputs": [
    {
     "data": {
      "text/plain": [
       "<matplotlib.text.Text at 0x15041ba85c0>"
      ]
     },
     "execution_count": 68,
     "metadata": {},
     "output_type": "execute_result"
    },
    {
     "data": {
      "image/png": "[encoded data removed]",
      "text/plain": [
       "<matplotlib.figure.Figure at 0x150417349b0>"
      ]
     },
     "metadata": {},
     "output_type": "display_data"
    }
   ],
   "source": [
    "#running gradient descent and visualizing J\n",
    "theta = np.zeros((X.shape[1],1))\n",
    "theta, Jvec, theta_vec = gradientDescent(theta, X, Y, alpha = 0.01, iteration = 1500)\n",
    "plt.figure(figsize = (10,6))\n",
    "plt.plot(range(1500),Jvec, 'rx')\n",
    "plt.xlabel('Iterations')\n",
    "plt.ylabel('Cost')"
   ]
  },
  {
   "cell_type": "code",
   "execution_count": 62,
   "metadata": {},
   "outputs": [
    {
     "data": {
      "text/plain": [
       "[-0.058391350515463923, 0.0]"
      ]
     },
     "execution_count": 62,
     "metadata": {},
     "output_type": "execute_result"
    }
   ],
   "source": []
  }
 ],
 "metadata": {
  "kernelspec": {
   "display_name": "Python 3",
   "language": "python",
   "name": "python3"
  },
  "language_info": {
   "codemirror_mode": {
    "name": "ipython",
    "version": 3
   },
   "file_extension": ".py",
   "mimetype": "text/x-python",
   "name": "python",
   "nbconvert_exporter": "python",
   "pygments_lexer": "ipython3",
   "version": "3.6.1"
  }
 },
 "nbformat": 4,
 "nbformat_minor": 2
}
