{
 "cells": [
  {
   "cell_type": "code",
   "execution_count": 46,
   "metadata": {
    "collapsed": true
   },
   "outputs": [],
   "source": [
    "%matplotlib inline\n",
    "import numpy as np\n",
    "import matplotlib.pyplot as plt\n",
    "import os\n",
    "import pandas as pd\n",
    "import math"
   ]
  },
  {
   "cell_type": "markdown",
   "metadata": {},
   "source": [
    "Logistic regression"
   ]
  },
  {
   "cell_type": "code",
   "execution_count": 100,
   "metadata": {
    "collapsed": true
   },
   "outputs": [],
   "source": [
    "datafile = 'data/ex2data1.txt'\n",
    "data = np.loadtxt(datafile, delimiter = ',')\n",
    "X = data[:,:-1]\n",
    "y = data[:,-1].reshape(X.shape[0],1)\n",
    "m = y.size"
   ]
  },
  {
   "cell_type": "code",
   "execution_count": 94,
   "metadata": {
    "collapsed": true
   },
   "outputs": [],
   "source": [
    "pos = np.array([i for i in range(X.shape[0]) if y[i] == 1])\n",
    "neg = np.array([i for i in range(X.shape[0]) if y[i] == 0])"
   ]
  },
  {
   "cell_type": "code",
   "execution_count": 95,
   "metadata": {},
   "outputs": [
    {
     "data": {
      "image/png": "[encoded data removed]",
      "text/plain": [
       "<matplotlib.figure.Figure at 0x1e65635d940>"
      ]
     },
     "metadata": {},
     "output_type": "display_data"
    }
   ],
   "source": [
    "#plot the data\n",
    "plt.figure(figsize = (10,6))\n",
    "plt.plot(X[pos,0], X[pos, 1], 'r+', label = 'Admitted')\n",
    "plt.plot(X[neg,0], X[neg, 1], 'bo', label = 'Not admitted')\n",
    "plt.xlabel('First grade')\n",
    "plt.ylabel('Second grade')\n",
    "plt.legend()\n",
    "plt.grid()"
   ]
  },
  {
   "cell_type": "code",
   "execution_count": 45,
   "metadata": {},
   "outputs": [
    {
     "data": {
      "image/png": "[encoded data removed]",
      "text/plain": [
       "<matplotlib.figure.Figure at 0x1e654667eb8>"
      ]
     },
     "metadata": {},
     "output_type": "display_data"
    }
   ],
   "source": [
    "#plot using pandas\n",
    "df = pd.DataFrame(data)\n",
    "df.columns = ['X1','X2','Label']\n",
    "groups = df.groupby('Label')\n",
    "\n",
    "fig, ax = plt.subplots(figsize = (10,6))\n",
    "for name, group in groups:\n",
    "    ax.plot(group.X1, group.X2, marker = 'o', linestyle = '', label = name)\n",
    "ax.legend()\n",
    "plt.show()"
   ]
  },
  {
   "cell_type": "code",
   "execution_count": 60,
   "metadata": {},
   "outputs": [],
   "source": [
    "#sigmoid function\n",
    "from scipy.special import expit #(sigmoid function)"
   ]
  },
  {
   "cell_type": "code",
   "execution_count": 101,
   "metadata": {},
   "outputs": [],
   "source": [
    "X = np.hstack([np.ones((X.shape[0],1)), X])"
   ]
  },
  {
   "cell_type": "code",
   "execution_count": 109,
   "metadata": {},
   "outputs": [],
   "source": [
    "def h(theta, X):\n",
    "    #X:m*n dimention\n",
    "    #theta n*1 dimention\n",
    "    return expit(np.dot(X, theta))\n",
    "#computeCost\n",
    "def computeCost(theta, X, y, mylambda = 0.):\n",
    "    return (1./m) * (np.dot((-y).reshape(1,-1), np.log(h(theta, X))) \\\n",
    "                     - np.dot((1-y).reshape(1,-1), np.log(1 - h(theta, X))))\\\n",
    "                     + (mylambda/2./m) * np.dot(theta[1:].T, theta[1:])\n",
    "def gradient(theta, X, y):\n",
    "    temp = 0\n",
    "    for i in range(theta.shape[0]):\n",
    "        temp += np.dot(X[:,i].reshape(1,-1),(h(theta, X) - y))\n",
    "    return (1./m) * temp"
   ]
  },
  {
   "cell_type": "code",
   "execution_count": 110,
   "metadata": {},
   "outputs": [
    {
     "name": "stdout",
     "output_type": "stream",
     "text": [
      "Correct cost should be 0.693, my answer is 0.693\n"
     ]
    }
   ],
   "source": [
    "theta = np.zeros((X.shape[1], 1))\n",
    "ans = computeCost(theta, X, y)\n",
    "print(\"Correct cost should be 0.693, my answer is %0.3f\" % ans)"
   ]
  },
  {
   "cell_type": "code",
   "execution_count": 111,
   "metadata": {
    "scrolled": true
   },
   "outputs": [
    {
     "name": "stdout",
     "output_type": "stream",
     "text": [
      "Optimization terminated successfully.\n",
      "         Current function value: 0.203498\n",
      "         Iterations: 157\n",
      "         Function evaluations: 287\n",
      "cost should be about 0.203, my op_cost is 0.203\n"
     ]
    }
   ],
   "source": [
    "#optimization\n",
    "from scipy.optimize import fmin\n",
    "def optimize(theta, X, y, mylambda = 0.):\n",
    "    result = fmin(computeCost, x0 = theta, args = (X, y, mylambda), maxiter = 500, full_output = True)\n",
    "    #return theta, cost\n",
    "    return result[0], result[1]\n",
    "op_theta, op_cost = optimize(theta, X, y)\n",
    "print('cost should be about 0.203, my op_cost is %0.3f' % op_cost)"
   ]
  },
  {
   "cell_type": "code",
   "execution_count": 86,
   "metadata": {},
   "outputs": [
    {
     "name": "stdout",
     "output_type": "stream",
     "text": [
      "should be 0.776, my ans is 0.776\n",
      "accuracy should be about 0.89, my accuracy is 0.890\n"
     ]
    }
   ],
   "source": [
    "#predict\n",
    "x_test = np.array([1., 45., 85.])\n",
    "y_test = h(op_theta, x_test)\n",
    "print('should be 0.776, my ans is %0.3f' % y_test)\n",
    "\n",
    "def predict(theta, X):\n",
    "    #y = np.zeros((X.shape[0], 1))\n",
    "    return np.round(h(theta, X))\n",
    "accuracy = predict(op_theta, X).reshape(-1, 1) == y\n",
    "print('accuracy should be about 0.89, my accuracy is %0.3f' % np.mean(accuracy))"
   ]
  },
  {
   "cell_type": "markdown",
   "metadata": {},
   "source": [
    "Regularized logistic regression "
   ]
  },
  {
   "cell_type": "code",
   "execution_count": 96,
   "metadata": {
    "collapsed": true
   },
   "outputs": [],
   "source": [
    "datafile2 = 'data/ex2data2.txt'\n",
    "data2 = np.loadtxt(datafile2, delimiter = ',')\n",
    "X = data2[:,:-1]\n",
    "y = data2[:,-1].reshape(X.shape[0], 1)\n",
    "m = y.size\n",
    "X = np.hstack([np.ones((X.shape[0], 1)), X])\n",
    "pos = [i for i in range(X.shape[0]) if y[i] == 1]\n",
    "neg = [i for i in range(X.shape[0]) if y[i] == 0]"
   ]
  },
  {
   "cell_type": "code",
   "execution_count": 99,
   "metadata": {},
   "outputs": [
    {
     "data": {
      "image/png": "[encoded data removed]",
      "text/plain": [
       "<matplotlib.figure.Figure at 0x1e654daafd0>"
      ]
     },
     "metadata": {},
     "output_type": "display_data"
    }
   ],
   "source": [
    "plt.plot(X[pos, 1], X[pos, 2], 'r+', label = 'Accepted')\n",
    "plt.plot(X[neg, 1], X[neg, 2], 'bo', label = 'Rejected')\n",
    "plt.xlabel('Microchip Test 1')\n",
    "plt.ylabel('Microchip Test 2')\n",
    "plt.legend()\n",
    "plt.show()"
   ]
  },
  {
   "cell_type": "code",
   "execution_count": 128,
   "metadata": {},
   "outputs": [],
   "source": [
    "#feature mapping\n",
    "def featureMap(col1, col2, degree = 6):\n",
    "    #input is two m*1 dimention array\n",
    "    out = np.ones((col1.shape[0], 1))\n",
    "    for i in range(1, degree + 1):\n",
    "        for j in range(i + 1):\n",
    "            temp = ((col1 ** (i-j)) * (col2 ** j)).reshape(-1, 1)\n",
    "            out = np.hstack([out, temp])\n",
    "    return out"
   ]
  },
  {
   "cell_type": "code",
   "execution_count": 130,
   "metadata": {},
   "outputs": [
    {
     "name": "stdout",
     "output_type": "stream",
     "text": [
      "cost should be about 0.693, my accuracy is 0.693\n"
     ]
    }
   ],
   "source": [
    "X = np.hstack([np.ones((X.shape[0], 1)), featureMap(X[:,1], X[:,2])])\n",
    "theta = np.zeros((X.shape[1], 1))\n",
    "mylambda = 1\n",
    "cost = computeCost(theta, X, y, mylambda)\n",
    "print('cost should be about 0.693, my accuracy is %0.3f' % cost)"
   ]
  },
  {
   "cell_type": "code",
   "execution_count": 131,
   "metadata": {},
   "outputs": [],
   "source": [
    "#optimization\n",
    "from scipy.optimize import minimize\n",
    "def optimizeRegularization(theta, X, y, mylambda = 0.):\n",
    "    result = minimize(computeCost, x0 = theta, args = (X, y, mylambda), method='BFGS', options={\"maxiter\":500, \"disp\":False})\n",
    "    return np.array(result.x), result.fun\n",
    "op_theta, op_cost = optimizeRegularization(theta, X, y, mylambda)"
   ]
  },
  {
   "cell_type": "code",
   "execution_count": 132,
   "metadata": {},
   "outputs": [
    {
     "data": {
      "text/plain": [
       "0.673011669359582"
      ]
     },
     "execution_count": 132,
     "metadata": {},
     "output_type": "execute_result"
    }
   ],
   "source": [
    "op_cost"
   ]
  }
 ],
 "metadata": {
  "kernelspec": {
   "display_name": "Python 3",
   "language": "python",
   "name": "python3"
  },
  "language_info": {
   "codemirror_mode": {
    "name": "ipython",
    "version": 3
   },
   "file_extension": ".py",
   "mimetype": "text/x-python",
   "name": "python",
   "nbconvert_exporter": "python",
   "pygments_lexer": "ipython3",
   "version": "3.6.1"
  }
 },
 "nbformat": 4,
 "nbformat_minor": 2
}
